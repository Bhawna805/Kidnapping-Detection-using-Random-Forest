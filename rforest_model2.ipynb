{
 "cells": [
  {
   "cell_type": "code",
   "execution_count": 1,
   "metadata": {},
   "outputs": [],
   "source": [
    "from sklearn.ensemble import RandomForestClassifier\n",
    "import numpy as np\n",
    "from sklearn.model_selection import train_test_split\n",
    "from scipy.io import arff\n",
    "import pandas as pd"
   ]
  },
  {
   "cell_type": "code",
   "execution_count": 2,
   "metadata": {},
   "outputs": [
    {
     "data": {
      "text/html": [
       "<div>\n",
       "<style scoped>\n",
       "    .dataframe tbody tr th:only-of-type {\n",
       "        vertical-align: middle;\n",
       "    }\n",
       "\n",
       "    .dataframe tbody tr th {\n",
       "        vertical-align: top;\n",
       "    }\n",
       "\n",
       "    .dataframe thead th {\n",
       "        text-align: right;\n",
       "    }\n",
       "</style>\n",
       "<table border=\"1\" class=\"dataframe\">\n",
       "  <thead>\n",
       "    <tr style=\"text-align: right;\">\n",
       "      <th></th>\n",
       "      <th>STATE/UT</th>\n",
       "      <th>YEAR</th>\n",
       "      <th>Purpose</th>\n",
       "      <th>Total No. of cases reported</th>\n",
       "      <th>Male upto 10 years</th>\n",
       "      <th>Female upto 10 years</th>\n",
       "      <th>Male 10-15 years</th>\n",
       "      <th>Female 10-15 years</th>\n",
       "      <th>Male 15-18 years</th>\n",
       "      <th>Female 15-18 years</th>\n",
       "      <th>...</th>\n",
       "      <th>Female 30-50 years</th>\n",
       "      <th>Male above 50 years</th>\n",
       "      <th>Female above 50 years</th>\n",
       "      <th>Total Male</th>\n",
       "      <th>Total Female</th>\n",
       "      <th>Grand Total</th>\n",
       "      <th>Male below 18</th>\n",
       "      <th>Female below 18</th>\n",
       "      <th>Number of children</th>\n",
       "      <th>Label</th>\n",
       "    </tr>\n",
       "  </thead>\n",
       "  <tbody>\n",
       "    <tr>\n",
       "      <th>0</th>\n",
       "      <td>Andhra Pradesh</td>\n",
       "      <td>2001</td>\n",
       "      <td>For Adoption</td>\n",
       "      <td>8</td>\n",
       "      <td>3</td>\n",
       "      <td>1</td>\n",
       "      <td>0</td>\n",
       "      <td>0</td>\n",
       "      <td>0</td>\n",
       "      <td>0</td>\n",
       "      <td>...</td>\n",
       "      <td>0</td>\n",
       "      <td>0</td>\n",
       "      <td>0</td>\n",
       "      <td>3</td>\n",
       "      <td>5</td>\n",
       "      <td>8</td>\n",
       "      <td>3</td>\n",
       "      <td>1</td>\n",
       "      <td>4</td>\n",
       "      <td>F</td>\n",
       "    </tr>\n",
       "    <tr>\n",
       "      <th>1</th>\n",
       "      <td>Andhra Pradesh</td>\n",
       "      <td>2001</td>\n",
       "      <td>For Begging</td>\n",
       "      <td>2</td>\n",
       "      <td>0</td>\n",
       "      <td>0</td>\n",
       "      <td>2</td>\n",
       "      <td>0</td>\n",
       "      <td>0</td>\n",
       "      <td>0</td>\n",
       "      <td>...</td>\n",
       "      <td>0</td>\n",
       "      <td>0</td>\n",
       "      <td>0</td>\n",
       "      <td>2</td>\n",
       "      <td>0</td>\n",
       "      <td>2</td>\n",
       "      <td>2</td>\n",
       "      <td>0</td>\n",
       "      <td>2</td>\n",
       "      <td>M</td>\n",
       "    </tr>\n",
       "    <tr>\n",
       "      <th>2</th>\n",
       "      <td>Andhra Pradesh</td>\n",
       "      <td>2001</td>\n",
       "      <td>For Camel racing</td>\n",
       "      <td>0</td>\n",
       "      <td>0</td>\n",
       "      <td>0</td>\n",
       "      <td>0</td>\n",
       "      <td>0</td>\n",
       "      <td>0</td>\n",
       "      <td>0</td>\n",
       "      <td>...</td>\n",
       "      <td>0</td>\n",
       "      <td>0</td>\n",
       "      <td>0</td>\n",
       "      <td>0</td>\n",
       "      <td>0</td>\n",
       "      <td>0</td>\n",
       "      <td>0</td>\n",
       "      <td>0</td>\n",
       "      <td>0</td>\n",
       "      <td>F</td>\n",
       "    </tr>\n",
       "    <tr>\n",
       "      <th>3</th>\n",
       "      <td>Andhra Pradesh</td>\n",
       "      <td>2001</td>\n",
       "      <td>For Illicit intercourse</td>\n",
       "      <td>78</td>\n",
       "      <td>0</td>\n",
       "      <td>2</td>\n",
       "      <td>0</td>\n",
       "      <td>25</td>\n",
       "      <td>0</td>\n",
       "      <td>24</td>\n",
       "      <td>...</td>\n",
       "      <td>2</td>\n",
       "      <td>0</td>\n",
       "      <td>0</td>\n",
       "      <td>0</td>\n",
       "      <td>78</td>\n",
       "      <td>78</td>\n",
       "      <td>0</td>\n",
       "      <td>51</td>\n",
       "      <td>51</td>\n",
       "      <td>F</td>\n",
       "    </tr>\n",
       "    <tr>\n",
       "      <th>4</th>\n",
       "      <td>Andhra Pradesh</td>\n",
       "      <td>2001</td>\n",
       "      <td>For marriage</td>\n",
       "      <td>339</td>\n",
       "      <td>0</td>\n",
       "      <td>0</td>\n",
       "      <td>0</td>\n",
       "      <td>73</td>\n",
       "      <td>1</td>\n",
       "      <td>164</td>\n",
       "      <td>...</td>\n",
       "      <td>4</td>\n",
       "      <td>0</td>\n",
       "      <td>0</td>\n",
       "      <td>7</td>\n",
       "      <td>332</td>\n",
       "      <td>339</td>\n",
       "      <td>1</td>\n",
       "      <td>237</td>\n",
       "      <td>238</td>\n",
       "      <td>F</td>\n",
       "    </tr>\n",
       "  </tbody>\n",
       "</table>\n",
       "<p>5 rows × 23 columns</p>\n",
       "</div>"
      ],
      "text/plain": [
       "         STATE/UT  YEAR                  Purpose  Total No. of cases reported  \\\n",
       "0  Andhra Pradesh  2001             For Adoption                            8   \n",
       "1  Andhra Pradesh  2001              For Begging                            2   \n",
       "2  Andhra Pradesh  2001         For Camel racing                            0   \n",
       "3  Andhra Pradesh  2001  For Illicit intercourse                           78   \n",
       "4  Andhra Pradesh  2001             For marriage                          339   \n",
       "\n",
       "   Male upto 10 years  Female upto 10 years  Male 10-15 years  \\\n",
       "0                   3                     1                 0   \n",
       "1                   0                     0                 2   \n",
       "2                   0                     0                 0   \n",
       "3                   0                     2                 0   \n",
       "4                   0                     0                 0   \n",
       "\n",
       "   Female 10-15 years  Male 15-18 years  Female 15-18 years  ...  \\\n",
       "0                   0                 0                   0  ...   \n",
       "1                   0                 0                   0  ...   \n",
       "2                   0                 0                   0  ...   \n",
       "3                  25                 0                  24  ...   \n",
       "4                  73                 1                 164  ...   \n",
       "\n",
       "   Female 30-50 years  Male above 50 years  Female above 50 years  Total Male  \\\n",
       "0                   0                    0                      0           3   \n",
       "1                   0                    0                      0           2   \n",
       "2                   0                    0                      0           0   \n",
       "3                   2                    0                      0           0   \n",
       "4                   4                    0                      0           7   \n",
       "\n",
       "   Total Female  Grand Total  Male below 18  Female below 18  \\\n",
       "0             5            8              3                1   \n",
       "1             0            2              2                0   \n",
       "2             0            0              0                0   \n",
       "3            78           78              0               51   \n",
       "4           332          339              1              237   \n",
       "\n",
       "   Number of children  Label  \n",
       "0                   4      F  \n",
       "1                   2      M  \n",
       "2                   0      F  \n",
       "3                  51      F  \n",
       "4                 238      F  \n",
       "\n",
       "[5 rows x 23 columns]"
      ]
     },
     "execution_count": 2,
     "metadata": {},
     "output_type": "execute_result"
    }
   ],
   "source": [
    "df = pd.read_csv(\"C:/Users/Vineet Kumar/Downloads/kidnapping.csv\")\n",
    "df.head()\n"
   ]
  },
  {
   "cell_type": "code",
   "execution_count": 3,
   "metadata": {},
   "outputs": [
    {
     "data": {
      "text/html": [
       "<div>\n",
       "<style scoped>\n",
       "    .dataframe tbody tr th:only-of-type {\n",
       "        vertical-align: middle;\n",
       "    }\n",
       "\n",
       "    .dataframe tbody tr th {\n",
       "        vertical-align: top;\n",
       "    }\n",
       "\n",
       "    .dataframe thead th {\n",
       "        text-align: right;\n",
       "    }\n",
       "</style>\n",
       "<table border=\"1\" class=\"dataframe\">\n",
       "  <thead>\n",
       "    <tr style=\"text-align: right;\">\n",
       "      <th></th>\n",
       "      <th>STATE/UT</th>\n",
       "      <th>YEAR</th>\n",
       "      <th>Purpose</th>\n",
       "      <th>Grand Total</th>\n",
       "      <th>Label</th>\n",
       "    </tr>\n",
       "  </thead>\n",
       "  <tbody>\n",
       "    <tr>\n",
       "      <th>0</th>\n",
       "      <td>Andhra Pradesh</td>\n",
       "      <td>2001</td>\n",
       "      <td>For Adoption</td>\n",
       "      <td>8</td>\n",
       "      <td>F</td>\n",
       "    </tr>\n",
       "    <tr>\n",
       "      <th>1</th>\n",
       "      <td>Andhra Pradesh</td>\n",
       "      <td>2001</td>\n",
       "      <td>For Begging</td>\n",
       "      <td>2</td>\n",
       "      <td>M</td>\n",
       "    </tr>\n",
       "    <tr>\n",
       "      <th>2</th>\n",
       "      <td>Andhra Pradesh</td>\n",
       "      <td>2001</td>\n",
       "      <td>For Camel racing</td>\n",
       "      <td>0</td>\n",
       "      <td>F</td>\n",
       "    </tr>\n",
       "    <tr>\n",
       "      <th>3</th>\n",
       "      <td>Andhra Pradesh</td>\n",
       "      <td>2001</td>\n",
       "      <td>For Illicit intercourse</td>\n",
       "      <td>78</td>\n",
       "      <td>F</td>\n",
       "    </tr>\n",
       "    <tr>\n",
       "      <th>4</th>\n",
       "      <td>Andhra Pradesh</td>\n",
       "      <td>2001</td>\n",
       "      <td>For marriage</td>\n",
       "      <td>339</td>\n",
       "      <td>F</td>\n",
       "    </tr>\n",
       "  </tbody>\n",
       "</table>\n",
       "</div>"
      ],
      "text/plain": [
       "         STATE/UT  YEAR                  Purpose  Grand Total Label\n",
       "0  Andhra Pradesh  2001             For Adoption            8     F\n",
       "1  Andhra Pradesh  2001              For Begging            2     M\n",
       "2  Andhra Pradesh  2001         For Camel racing            0     F\n",
       "3  Andhra Pradesh  2001  For Illicit intercourse           78     F\n",
       "4  Andhra Pradesh  2001             For marriage          339     F"
      ]
     },
     "execution_count": 3,
     "metadata": {},
     "output_type": "execute_result"
    }
   ],
   "source": [
    "df = df.drop(['Total No. of cases reported'], axis=1)\n",
    "df = df.drop(['Male upto 10 years'], axis=1)\n",
    "df = df.drop(['Female upto 10 years'], axis=1)\n",
    "df = df.drop(['Male 10-15 years'], axis=1)\n",
    "df = df.drop(['Female 10-15 years'], axis=1)\n",
    "df = df.drop(['Male 15-18 years'], axis=1)\n",
    "df = df.drop(['Female 15-18 years'], axis=1)\n",
    "df = df.drop(['Male 18-30 years'], axis=1)\n",
    "df = df.drop(['Female 18-30 years'], axis=1)\n",
    "df = df.drop(['Male 30-50 years'], axis=1)\n",
    "df = df.drop(['Female 30-50 years'], axis=1)\n",
    "df = df.drop(['Male above 50 years'], axis=1)\n",
    "df = df.drop(['Female above 50 years'], axis=1)\n",
    "df = df.drop(['Total Male'], axis=1)\n",
    "df = df.drop(['Total Female'], axis=1)\n",
    "df = df.drop(['Male below 18'], axis=1)\n",
    "df = df.drop(['Female below 18'],axis=1)\n",
    "df = df.drop(['Number of children'], axis=1)\n",
    "\n",
    "df.head()"
   ]
  },
  {
   "cell_type": "code",
   "execution_count": 4,
   "metadata": {},
   "outputs": [
    {
     "name": "stdout",
     "output_type": "stream",
     "text": [
      "      STATE/UT  YEAR  Purpose  Grand Total  Label\n",
      "0            1     0        0            8      0\n",
      "1            1     0        1            2      1\n",
      "2            1     0        2            0      0\n",
      "3            1     0        3           78      0\n",
      "4            1     0       10          278      0\n",
      "5            1     0        4           36      0\n",
      "6            1     0        5           13      1\n",
      "7            1     0        6           47      1\n",
      "8            1     0        7            0      0\n",
      "9            1     0        8            0      0\n",
      "10           1     0        9            0      0\n",
      "11           1     0       11          164      1\n",
      "12           1     0       13          358      1\n",
      "13           1     0       14          552      0\n",
      "14           1     1        0            0      0\n",
      "15           1     1        1            6      1\n",
      "16           1     1        2            0      0\n",
      "17           1     1        3           98      0\n",
      "18           1     1       10          302      0\n",
      "19           1     1        4           61      0\n",
      "20           1     1        5            8      1\n",
      "21           1     1        6           34      0\n",
      "22           1     1        7            3      0\n",
      "23           1     1        8            0      0\n",
      "24           1     1        9            3      0\n",
      "25           1     1       11          107      1\n",
      "26           1     1       13          386      1\n",
      "27           1     1       14          571      0\n",
      "28           1     2        0            0      0\n",
      "29           1     2        1            1      0\n",
      "...        ...   ...      ...          ...    ...\n",
      "5836        26     9       13            0      0\n",
      "5837        26     9       14           20      0\n",
      "5838        26    10        0            0      0\n",
      "5839        26    10        1            0      0\n",
      "5840        26    10        2            0      0\n",
      "5841        26    10        3            1      0\n",
      "5842        26    10       10            5      0\n",
      "5843        26    10        4            0      0\n",
      "5844        26    10        5            1      1\n",
      "5845        26    10        6            0      0\n",
      "5846        26    10        7            0      0\n",
      "5847        26    10        8            0      0\n",
      "5848        26    10        9            0      0\n",
      "5849        26    10       11            5      0\n",
      "5850        26    10       13            0      0\n",
      "5851        26    10       14           12      0\n",
      "5852        26    11        0            0      0\n",
      "5853        26    11        1            0      0\n",
      "5854        26    11        2            0      0\n",
      "5855        26    11        3            0      0\n",
      "5856        26    11       10           11      0\n",
      "5857        26    11        4            0      0\n",
      "5858        26    11        5            0      0\n",
      "5859        26    11        6            0      0\n",
      "5860        26    11        7            0      0\n",
      "5861        26    11        8            0      0\n",
      "5862        26    11        9            0      0\n",
      "5863        26    11       11            0      0\n",
      "5864        26    11       13            8      0\n",
      "5865        26    11       14           19      0\n",
      "\n",
      "[5866 rows x 5 columns]\n"
     ]
    }
   ],
   "source": [
    "import pandas as pd\n",
    "from sklearn.preprocessing import LabelEncoder\n",
    "\n",
    "def encode_df(dataframe):\n",
    "    le = LabelEncoder()\n",
    "    for column in dataframe.columns:\n",
    "        dataframe[column] = le.fit_transform(dataframe[column])\n",
    "    return dataframe\n",
    "\n",
    "#encode the dataframe\n",
    "data=encode_df(df)\n",
    "\n",
    "print(data)"
   ]
  },
  {
   "cell_type": "code",
   "execution_count": 5,
   "metadata": {},
   "outputs": [],
   "source": [
    "X = df.iloc[:, 0:4].values \n",
    "y = df.iloc[:,-1].values "
   ]
  },
  {
   "cell_type": "code",
   "execution_count": 6,
   "metadata": {},
   "outputs": [],
   "source": [
    "from sklearn.model_selection import train_test_split\n",
    "\n",
    "X_train, X_test, y_train, y_test = train_test_split(X, y, test_size=0.5, random_state=0)"
   ]
  },
  {
   "cell_type": "code",
   "execution_count": 7,
   "metadata": {},
   "outputs": [
    {
     "data": {
      "text/plain": [
       "(2933, 4)"
      ]
     },
     "execution_count": 7,
     "metadata": {},
     "output_type": "execute_result"
    }
   ],
   "source": [
    "X_train.shape"
   ]
  },
  {
   "cell_type": "code",
   "execution_count": 8,
   "metadata": {},
   "outputs": [
    {
     "name": "stderr",
     "output_type": "stream",
     "text": [
      "C:\\Users\\Vineet Kumar\\Anaconda3\\lib\\site-packages\\sklearn\\utils\\validation.py:595: DataConversionWarning: Data with input dtype int64 was converted to float64 by StandardScaler.\n",
      "  warnings.warn(msg, DataConversionWarning)\n",
      "C:\\Users\\Vineet Kumar\\Anaconda3\\lib\\site-packages\\sklearn\\utils\\validation.py:595: DataConversionWarning: Data with input dtype int64 was converted to float64 by StandardScaler.\n",
      "  warnings.warn(msg, DataConversionWarning)\n",
      "C:\\Users\\Vineet Kumar\\Anaconda3\\lib\\site-packages\\sklearn\\utils\\validation.py:595: DataConversionWarning: Data with input dtype int64 was converted to float64 by StandardScaler.\n",
      "  warnings.warn(msg, DataConversionWarning)\n"
     ]
    }
   ],
   "source": [
    "from sklearn.preprocessing import StandardScaler\n",
    "\n",
    "sc = StandardScaler()  \n",
    "X_train = sc.fit_transform(X_train)  \n",
    "X_test = sc.transform(X_test)"
   ]
  },
  {
   "cell_type": "code",
   "execution_count": 9,
   "metadata": {},
   "outputs": [],
   "source": [
    "#Import Random Forest Model\n",
    "from sklearn.ensemble import RandomForestClassifier\n",
    "\n",
    "#Create a Gaussian Classifier\n",
    "classifier = RandomForestClassifier(n_estimators=100, random_state=0) \n",
    "\n",
    "#Train the model using the training sets y_pred=clf.predict(X_test)\n",
    "classifier.fit(X_train, y_train)  \n",
    "y_pred = classifier.predict(X_test)"
   ]
  },
  {
   "cell_type": "code",
   "execution_count": 10,
   "metadata": {},
   "outputs": [
    {
     "name": "stdout",
     "output_type": "stream",
     "text": [
      "[[2266  118]\n",
      " [ 125  424]]\n",
      "              precision    recall  f1-score   support\n",
      "\n",
      "           0       0.95      0.95      0.95      2384\n",
      "           1       0.78      0.77      0.78       549\n",
      "\n",
      "   micro avg       0.92      0.92      0.92      2933\n",
      "   macro avg       0.87      0.86      0.86      2933\n",
      "weighted avg       0.92      0.92      0.92      2933\n",
      "\n",
      "0.9171496760995568\n"
     ]
    }
   ],
   "source": [
    "from sklearn.metrics import classification_report, confusion_matrix, accuracy_score\n",
    "\n",
    "#Import scikit-learn metrics module for accuracy calculation\n",
    "\n",
    "print(confusion_matrix(y_test,y_pred))  \n",
    "print(classification_report(y_test,y_pred)) \n",
    "\n",
    "# Model Accuracy, how often is the classifier correct?\n",
    "print(accuracy_score(y_test, y_pred))"
   ]
  },
  {
   "cell_type": "code",
   "execution_count": 11,
   "metadata": {},
   "outputs": [],
   "source": [
    "from sklearn.model_selection import train_test_split\n",
    "\n",
    "X_train, X_test, y_train, y_test = train_test_split(X, y, test_size=0.6, random_state=0)"
   ]
  },
  {
   "cell_type": "code",
   "execution_count": 12,
   "metadata": {},
   "outputs": [
    {
     "name": "stderr",
     "output_type": "stream",
     "text": [
      "C:\\Users\\Vineet Kumar\\Anaconda3\\lib\\site-packages\\sklearn\\utils\\validation.py:595: DataConversionWarning: Data with input dtype int64 was converted to float64 by StandardScaler.\n",
      "  warnings.warn(msg, DataConversionWarning)\n",
      "C:\\Users\\Vineet Kumar\\Anaconda3\\lib\\site-packages\\sklearn\\utils\\validation.py:595: DataConversionWarning: Data with input dtype int64 was converted to float64 by StandardScaler.\n",
      "  warnings.warn(msg, DataConversionWarning)\n",
      "C:\\Users\\Vineet Kumar\\Anaconda3\\lib\\site-packages\\sklearn\\utils\\validation.py:595: DataConversionWarning: Data with input dtype int64 was converted to float64 by StandardScaler.\n",
      "  warnings.warn(msg, DataConversionWarning)\n"
     ]
    }
   ],
   "source": [
    "from sklearn.preprocessing import StandardScaler\n",
    "\n",
    "sc = StandardScaler()  \n",
    "X_train = sc.fit_transform(X_train)  \n",
    "X_test = sc.transform(X_test)"
   ]
  },
  {
   "cell_type": "code",
   "execution_count": 13,
   "metadata": {},
   "outputs": [],
   "source": [
    "#Import Random Forest Model\n",
    "from sklearn.ensemble import RandomForestClassifier\n",
    "\n",
    "#Create a Gaussian Classifier\n",
    "classifier = RandomForestClassifier(n_estimators=100, random_state=0) \n",
    "\n",
    "#Train the model using the training sets y_pred=clf.predict(X_test)\n",
    "classifier.fit(X_train, y_train)  \n",
    "y_pred = classifier.predict(X_test)  "
   ]
  },
  {
   "cell_type": "code",
   "execution_count": 14,
   "metadata": {},
   "outputs": [
    {
     "name": "stdout",
     "output_type": "stream",
     "text": [
      "[[2730  142]\n",
      " [ 157  491]]\n",
      "              precision    recall  f1-score   support\n",
      "\n",
      "           0       0.95      0.95      0.95      2872\n",
      "           1       0.78      0.76      0.77       648\n",
      "\n",
      "   micro avg       0.92      0.92      0.92      3520\n",
      "   macro avg       0.86      0.85      0.86      3520\n",
      "weighted avg       0.91      0.92      0.91      3520\n",
      "\n",
      "0.9150568181818182\n"
     ]
    }
   ],
   "source": [
    "from sklearn.metrics import classification_report, confusion_matrix, accuracy_score\n",
    "\n",
    "#Import scikit-learn metrics module for accuracy calculation\n",
    "\n",
    "print(confusion_matrix(y_test,y_pred))  \n",
    "print(classification_report(y_test,y_pred)) \n",
    "\n",
    "# Model Accuracy, how often is the classifier correct?\n",
    "print(accuracy_score(y_test, y_pred))"
   ]
  },
  {
   "cell_type": "code",
   "execution_count": 15,
   "metadata": {},
   "outputs": [],
   "source": [
    "from sklearn.model_selection import train_test_split\n",
    "\n",
    "X_train, X_test, y_train, y_test = train_test_split(X, y, test_size=0.7, random_state=0)"
   ]
  },
  {
   "cell_type": "code",
   "execution_count": 16,
   "metadata": {},
   "outputs": [
    {
     "name": "stderr",
     "output_type": "stream",
     "text": [
      "C:\\Users\\Vineet Kumar\\Anaconda3\\lib\\site-packages\\sklearn\\utils\\validation.py:595: DataConversionWarning: Data with input dtype int64 was converted to float64 by StandardScaler.\n",
      "  warnings.warn(msg, DataConversionWarning)\n",
      "C:\\Users\\Vineet Kumar\\Anaconda3\\lib\\site-packages\\sklearn\\utils\\validation.py:595: DataConversionWarning: Data with input dtype int64 was converted to float64 by StandardScaler.\n",
      "  warnings.warn(msg, DataConversionWarning)\n",
      "C:\\Users\\Vineet Kumar\\Anaconda3\\lib\\site-packages\\sklearn\\utils\\validation.py:595: DataConversionWarning: Data with input dtype int64 was converted to float64 by StandardScaler.\n",
      "  warnings.warn(msg, DataConversionWarning)\n"
     ]
    }
   ],
   "source": [
    "from sklearn.preprocessing import StandardScaler\n",
    "\n",
    "sc = StandardScaler()  \n",
    "X_train = sc.fit_transform(X_train)  \n",
    "X_test = sc.transform(X_test)"
   ]
  },
  {
   "cell_type": "code",
   "execution_count": 17,
   "metadata": {},
   "outputs": [],
   "source": [
    "#Import Random Forest Model\n",
    "from sklearn.ensemble import RandomForestClassifier\n",
    "\n",
    "#Create a Gaussian Classifier\n",
    "classifier = RandomForestClassifier(n_estimators=100, random_state=0) \n",
    "\n",
    "#Train the model using the training sets y_pred=clf.predict(X_test)\n",
    "classifier.fit(X_train, y_train)  \n",
    "y_pred = classifier.predict(X_test)"
   ]
  },
  {
   "cell_type": "code",
   "execution_count": 18,
   "metadata": {},
   "outputs": [
    {
     "name": "stdout",
     "output_type": "stream",
     "text": [
      "[[3164  184]\n",
      " [ 196  563]]\n",
      "              precision    recall  f1-score   support\n",
      "\n",
      "           0       0.94      0.95      0.94      3348\n",
      "           1       0.75      0.74      0.75       759\n",
      "\n",
      "   micro avg       0.91      0.91      0.91      4107\n",
      "   macro avg       0.85      0.84      0.85      4107\n",
      "weighted avg       0.91      0.91      0.91      4107\n",
      "\n",
      "0.9074750426101778\n"
     ]
    }
   ],
   "source": [
    "from sklearn.metrics import classification_report, confusion_matrix, accuracy_score\n",
    "\n",
    "#Import scikit-learn metrics module for accuracy calculation\n",
    "\n",
    "print(confusion_matrix(y_test,y_pred))  \n",
    "print(classification_report(y_test,y_pred)) \n",
    "\n",
    "# Model Accuracy, how often is the classifier correct?\n",
    "print(accuracy_score(y_test, y_pred))"
   ]
  },
  {
   "cell_type": "code",
   "execution_count": 19,
   "metadata": {},
   "outputs": [],
   "source": [
    "from sklearn.model_selection import train_test_split\n",
    "\n",
    "X_train, X_test, y_train, y_test = train_test_split(X, y, test_size=0.8, random_state=0)"
   ]
  },
  {
   "cell_type": "code",
   "execution_count": 20,
   "metadata": {},
   "outputs": [
    {
     "name": "stderr",
     "output_type": "stream",
     "text": [
      "C:\\Users\\Vineet Kumar\\Anaconda3\\lib\\site-packages\\sklearn\\utils\\validation.py:595: DataConversionWarning: Data with input dtype int64 was converted to float64 by StandardScaler.\n",
      "  warnings.warn(msg, DataConversionWarning)\n",
      "C:\\Users\\Vineet Kumar\\Anaconda3\\lib\\site-packages\\sklearn\\utils\\validation.py:595: DataConversionWarning: Data with input dtype int64 was converted to float64 by StandardScaler.\n",
      "  warnings.warn(msg, DataConversionWarning)\n",
      "C:\\Users\\Vineet Kumar\\Anaconda3\\lib\\site-packages\\sklearn\\utils\\validation.py:595: DataConversionWarning: Data with input dtype int64 was converted to float64 by StandardScaler.\n",
      "  warnings.warn(msg, DataConversionWarning)\n"
     ]
    }
   ],
   "source": [
    "from sklearn.preprocessing import StandardScaler\n",
    "\n",
    "sc = StandardScaler()  \n",
    "X_train = sc.fit_transform(X_train)  \n",
    "X_test = sc.transform(X_test)"
   ]
  },
  {
   "cell_type": "code",
   "execution_count": 21,
   "metadata": {},
   "outputs": [],
   "source": [
    "#Import Random Forest Model\n",
    "from sklearn.ensemble import RandomForestClassifier\n",
    "\n",
    "#Create a Gaussian Classifier\n",
    "classifier = RandomForestClassifier(n_estimators=100, random_state=0) \n",
    "\n",
    "#Train the model using the training sets y_pred=clf.predict(X_test)\n",
    "classifier.fit(X_train, y_train)  \n",
    "y_pred = classifier.predict(X_test) "
   ]
  },
  {
   "cell_type": "code",
   "execution_count": 22,
   "metadata": {},
   "outputs": [
    {
     "name": "stdout",
     "output_type": "stream",
     "text": [
      "[[3599  227]\n",
      " [ 228  639]]\n",
      "              precision    recall  f1-score   support\n",
      "\n",
      "           0       0.94      0.94      0.94      3826\n",
      "           1       0.74      0.74      0.74       867\n",
      "\n",
      "   micro avg       0.90      0.90      0.90      4693\n",
      "   macro avg       0.84      0.84      0.84      4693\n",
      "weighted avg       0.90      0.90      0.90      4693\n",
      "\n",
      "0.9030470914127424\n"
     ]
    }
   ],
   "source": [
    "from sklearn.metrics import classification_report, confusion_matrix, accuracy_score\n",
    "\n",
    "#Import scikit-learn metrics module for accuracy calculation\n",
    "\n",
    "print(confusion_matrix(y_test,y_pred))  \n",
    "print(classification_report(y_test,y_pred)) \n",
    "\n",
    "# Model Accuracy, how often is the classifier correct?\n",
    "print(accuracy_score(y_test, y_pred))"
   ]
  },
  {
   "cell_type": "code",
   "execution_count": 23,
   "metadata": {},
   "outputs": [],
   "source": [
    "from sklearn.model_selection import train_test_split\n",
    "\n",
    "X_train, X_test, y_train, y_test = train_test_split(X, y, test_size=0.9, random_state=0)"
   ]
  },
  {
   "cell_type": "code",
   "execution_count": 24,
   "metadata": {},
   "outputs": [
    {
     "name": "stderr",
     "output_type": "stream",
     "text": [
      "C:\\Users\\Vineet Kumar\\Anaconda3\\lib\\site-packages\\sklearn\\utils\\validation.py:595: DataConversionWarning: Data with input dtype int64 was converted to float64 by StandardScaler.\n",
      "  warnings.warn(msg, DataConversionWarning)\n",
      "C:\\Users\\Vineet Kumar\\Anaconda3\\lib\\site-packages\\sklearn\\utils\\validation.py:595: DataConversionWarning: Data with input dtype int64 was converted to float64 by StandardScaler.\n",
      "  warnings.warn(msg, DataConversionWarning)\n",
      "C:\\Users\\Vineet Kumar\\Anaconda3\\lib\\site-packages\\sklearn\\utils\\validation.py:595: DataConversionWarning: Data with input dtype int64 was converted to float64 by StandardScaler.\n",
      "  warnings.warn(msg, DataConversionWarning)\n"
     ]
    }
   ],
   "source": [
    "from sklearn.preprocessing import StandardScaler\n",
    "\n",
    "sc = StandardScaler()  \n",
    "X_train = sc.fit_transform(X_train)  \n",
    "X_test = sc.transform(X_test)"
   ]
  },
  {
   "cell_type": "code",
   "execution_count": 25,
   "metadata": {},
   "outputs": [],
   "source": [
    "#Import Random Forest Model\n",
    "from sklearn.ensemble import RandomForestClassifier\n",
    "\n",
    "#Create a Gaussian Classifier\n",
    "classifier = RandomForestClassifier(n_estimators=100, random_state=0) \n",
    "\n",
    "#Train the model using the training sets y_pred=clf.predict(X_test)\n",
    "classifier.fit(X_train, y_train)  \n",
    "y_pred = classifier.predict(X_test)"
   ]
  },
  {
   "cell_type": "code",
   "execution_count": 26,
   "metadata": {},
   "outputs": [
    {
     "name": "stdout",
     "output_type": "stream",
     "text": [
      "[[3992  300]\n",
      " [ 265  723]]\n",
      "              precision    recall  f1-score   support\n",
      "\n",
      "           0       0.94      0.93      0.93      4292\n",
      "           1       0.71      0.73      0.72       988\n",
      "\n",
      "   micro avg       0.89      0.89      0.89      5280\n",
      "   macro avg       0.82      0.83      0.83      5280\n",
      "weighted avg       0.89      0.89      0.89      5280\n",
      "\n",
      "0.8929924242424242\n"
     ]
    }
   ],
   "source": [
    "from sklearn.metrics import classification_report, confusion_matrix, accuracy_score\n",
    "\n",
    "#Import scikit-learn metrics module for accuracy calculation\n",
    "\n",
    "print(confusion_matrix(y_test,y_pred))  \n",
    "print(classification_report(y_test,y_pred)) \n",
    "\n",
    "# Model Accuracy, how often is the classifier correct?\n",
    "print(accuracy_score(y_test, y_pred))"
   ]
  },
  {
   "cell_type": "code",
   "execution_count": 28,
   "metadata": {
    "scrolled": true
   },
   "outputs": [
    {
     "data": {
      "image/png": "[encoded data removed]",
      "text/plain": [
       "<Figure size 432x288 with 1 Axes>"
      ]
     },
     "metadata": {
      "needs_background": "light"
     },
     "output_type": "display_data"
    }
   ],
   "source": [
    "import numpy as np\n",
    "import matplotlib.pyplot as plt\n",
    "import pandas as pd\n",
    "import seaborn as sns\n",
    "\n",
    "# data to plot\n",
    "n_groups =5\n",
    "accuracy1=91.71\n",
    "accuracy2=91.50\n",
    "accuracy3=90.74\n",
    "accuracy4=90.30\n",
    "accuracy5=89.29\n",
    "\n",
    "means_accuracy=(accuracy1,accuracy2,accuracy3,accuracy4,accuracy5)\n",
    " \n",
    "# create plot\n",
    "fig, ax = plt.subplots()\n",
    "index = np.arange(n_groups)\n",
    "bar_width = 0.40\n",
    "opacity = 0.8\n",
    " \n",
    "sns.set_color_codes(\"pastel\")\n",
    "rects1 = plt.bar(index, means_accuracy, bar_width,\n",
    "                 alpha=opacity,\n",
    "                 label='Accuracy')\n",
    "  \n",
    "plt.xlabel('Ratio of test and train data')\n",
    "plt.ylabel('Values')\n",
    "plt.title('Accuracy of Random Forest')\n",
    "plt.xticks(index, ('50:50', '60:40', '70:30','80:20','90:10'))\n",
    "plt.legend()\n",
    " \n",
    "plt.tight_layout()\n",
    "plt.show()"
   ]
  },
  {
   "cell_type": "code",
   "execution_count": null,
   "metadata": {},
   "outputs": [],
   "source": []
  }
 ],
 "metadata": {
  "kernelspec": {
   "display_name": "Python 3",
   "language": "python",
   "name": "python3"
  },
  "language_info": {
   "codemirror_mode": {
    "name": "ipython",
    "version": 3
   },
   "file_extension": ".py",
   "mimetype": "text/x-python",
   "name": "python",
   "nbconvert_exporter": "python",
   "pygments_lexer": "ipython3",
   "version": "3.7.1"
  }
 },
 "nbformat": 4,
 "nbformat_minor": 2
}
